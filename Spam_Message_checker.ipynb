{
 "cells": [
  {
   "cell_type": "markdown",
   "id": "0ddc2c78-c88a-4602-b446-0abc97ece9dd",
   "metadata": {},
   "source": [
    "# Spam Message Classifier End-to-End Project\n"
   ]
  },
  {
   "cell_type": "code",
   "execution_count": 23,
   "id": "f50cdb56-7612-433d-ab5c-10aaf4dd90b9",
   "metadata": {},
   "outputs": [],
   "source": [
    "import pandas as pd\n",
    "import numpy as np\n"
   ]
  },
  {
   "cell_type": "code",
   "execution_count": 24,
   "id": "9e181ee9-109d-47b1-a9f4-723f6fca27b5",
   "metadata": {},
   "outputs": [],
   "source": [
    "\n",
    "import re\n",
    "import joblib\n",
    "from sklearn.model_selection import train_test_split\n",
    "from sklearn.preprocessing import LabelEncoder\n",
    "from sklearn.feature_extraction.text import TfidfVectorizer\n",
    "from sklearn.linear_model import LogisticRegression\n",
    "from sklearn.ensemble import RandomForestClassifier\n",
    "from xgboost import XGBClassifier\n",
    "from sklearn.metrics import classification_report, confusion_matrix, accuracy_score\n"
   ]
  },
  {
   "cell_type": "code",
   "execution_count": 25,
   "id": "28553e83-e759-42ec-8a58-e67c5f5e3d76",
   "metadata": {},
   "outputs": [
    {
     "data": {
      "text/html": [
       "<div>\n",
       "<style scoped>\n",
       "    .dataframe tbody tr th:only-of-type {\n",
       "        vertical-align: middle;\n",
       "    }\n",
       "\n",
       "    .dataframe tbody tr th {\n",
       "        vertical-align: top;\n",
       "    }\n",
       "\n",
       "    .dataframe thead th {\n",
       "        text-align: right;\n",
       "    }\n",
       "</style>\n",
       "<table border=\"1\" class=\"dataframe\">\n",
       "  <thead>\n",
       "    <tr style=\"text-align: right;\">\n",
       "      <th></th>\n",
       "      <th>Category</th>\n",
       "      <th>Message</th>\n",
       "    </tr>\n",
       "  </thead>\n",
       "  <tbody>\n",
       "    <tr>\n",
       "      <th>0</th>\n",
       "      <td>ham</td>\n",
       "      <td>Go until jurong point, crazy.. Available only ...</td>\n",
       "    </tr>\n",
       "    <tr>\n",
       "      <th>1</th>\n",
       "      <td>ham</td>\n",
       "      <td>Ok lar... Joking wif u oni...</td>\n",
       "    </tr>\n",
       "    <tr>\n",
       "      <th>2</th>\n",
       "      <td>spam</td>\n",
       "      <td>Free entry in 2 a wkly comp to win FA Cup fina...</td>\n",
       "    </tr>\n",
       "    <tr>\n",
       "      <th>3</th>\n",
       "      <td>ham</td>\n",
       "      <td>U dun say so early hor... U c already then say...</td>\n",
       "    </tr>\n",
       "    <tr>\n",
       "      <th>4</th>\n",
       "      <td>ham</td>\n",
       "      <td>Nah I don't think he goes to usf, he lives aro...</td>\n",
       "    </tr>\n",
       "  </tbody>\n",
       "</table>\n",
       "</div>"
      ],
      "text/plain": [
       "  Category                                            Message\n",
       "0      ham  Go until jurong point, crazy.. Available only ...\n",
       "1      ham                      Ok lar... Joking wif u oni...\n",
       "2     spam  Free entry in 2 a wkly comp to win FA Cup fina...\n",
       "3      ham  U dun say so early hor... U c already then say...\n",
       "4      ham  Nah I don't think he goes to usf, he lives aro..."
      ]
     },
     "execution_count": 25,
     "metadata": {},
     "output_type": "execute_result"
    }
   ],
   "source": [
    "# Load Dataset \n",
    "df = pd.read_csv(\"SPAM_text.csv\")\n",
    "df.head()"
   ]
  },
  {
   "cell_type": "code",
   "execution_count": 26,
   "id": "2cfd5ef2-6626-4c0a-8e3b-0b040b7cb32d",
   "metadata": {},
   "outputs": [
    {
     "name": "stdout",
     "output_type": "stream",
     "text": [
      "<class 'pandas.core.frame.DataFrame'>\n",
      "RangeIndex: 5572 entries, 0 to 5571\n",
      "Data columns (total 2 columns):\n",
      " #   Column    Non-Null Count  Dtype \n",
      "---  ------    --------------  ----- \n",
      " 0   Category  5572 non-null   object\n",
      " 1   Message   5572 non-null   object\n",
      "dtypes: object(2)\n",
      "memory usage: 87.2+ KB\n"
     ]
    }
   ],
   "source": [
    "df.info()"
   ]
  },
  {
   "cell_type": "code",
   "execution_count": 27,
   "id": "c76865d0-6cf1-44e0-abb7-599e1998a17f",
   "metadata": {},
   "outputs": [
    {
     "data": {
      "text/plain": [
       "Category    0\n",
       "Message     0\n",
       "dtype: int64"
      ]
     },
     "execution_count": 27,
     "metadata": {},
     "output_type": "execute_result"
    }
   ],
   "source": [
    "df.isnull().sum()"
   ]
  },
  {
   "cell_type": "code",
   "execution_count": 28,
   "id": "8a4e896f-5573-4156-83e8-94c9e49012dc",
   "metadata": {},
   "outputs": [
    {
     "data": {
      "text/plain": [
       "np.int64(415)"
      ]
     },
     "execution_count": 28,
     "metadata": {},
     "output_type": "execute_result"
    }
   ],
   "source": [
    "df.duplicated().sum()"
   ]
  },
  {
   "cell_type": "code",
   "execution_count": 29,
   "id": "651022aa-26ef-48e6-84db-7be98ccb6e2c",
   "metadata": {},
   "outputs": [],
   "source": [
    "df.drop_duplicates(inplace = True)"
   ]
  },
  {
   "cell_type": "code",
   "execution_count": 30,
   "id": "3193916d-43ed-4596-a3e1-744d987f70df",
   "metadata": {},
   "outputs": [
    {
     "data": {
      "text/plain": [
       "np.int64(0)"
      ]
     },
     "execution_count": 30,
     "metadata": {},
     "output_type": "execute_result"
    }
   ],
   "source": [
    "df.duplicated().sum()"
   ]
  },
  {
   "cell_type": "code",
   "execution_count": 31,
   "id": "b76ff6ba-ee51-467a-8bf9-9ff68a0f74ec",
   "metadata": {},
   "outputs": [],
   "source": [
    "import re"
   ]
  },
  {
   "cell_type": "code",
   "execution_count": 32,
   "id": "03009a19-425a-4b27-b453-1cd199d8405e",
   "metadata": {},
   "outputs": [
    {
     "name": "stdout",
     "output_type": "stream",
     "text": [
      "\n",
      "Columns: Index(['category', 'message'], dtype='object')\n"
     ]
    },
    {
     "data": {
      "text/html": [
       "<div>\n",
       "<style scoped>\n",
       "    .dataframe tbody tr th:only-of-type {\n",
       "        vertical-align: middle;\n",
       "    }\n",
       "\n",
       "    .dataframe tbody tr th {\n",
       "        vertical-align: top;\n",
       "    }\n",
       "\n",
       "    .dataframe thead th {\n",
       "        text-align: right;\n",
       "    }\n",
       "</style>\n",
       "<table border=\"1\" class=\"dataframe\">\n",
       "  <thead>\n",
       "    <tr style=\"text-align: right;\">\n",
       "      <th></th>\n",
       "      <th>message</th>\n",
       "      <th>clean_message</th>\n",
       "    </tr>\n",
       "  </thead>\n",
       "  <tbody>\n",
       "    <tr>\n",
       "      <th>0</th>\n",
       "      <td>Go until jurong point, crazy.. Available only ...</td>\n",
       "      <td>go until jurong point crazy available only in ...</td>\n",
       "    </tr>\n",
       "    <tr>\n",
       "      <th>1</th>\n",
       "      <td>Ok lar... Joking wif u oni...</td>\n",
       "      <td>ok lar joking wif u oni</td>\n",
       "    </tr>\n",
       "    <tr>\n",
       "      <th>2</th>\n",
       "      <td>Free entry in 2 a wkly comp to win FA Cup fina...</td>\n",
       "      <td>free entry in 2 a wkly comp to win fa cup fina...</td>\n",
       "    </tr>\n",
       "    <tr>\n",
       "      <th>3</th>\n",
       "      <td>U dun say so early hor... U c already then say...</td>\n",
       "      <td>u dun say so early hor u c already then say</td>\n",
       "    </tr>\n",
       "    <tr>\n",
       "      <th>4</th>\n",
       "      <td>Nah I don't think he goes to usf, he lives aro...</td>\n",
       "      <td>nah i don t think he goes to usf he lives arou...</td>\n",
       "    </tr>\n",
       "  </tbody>\n",
       "</table>\n",
       "</div>"
      ],
      "text/plain": [
       "                                             message  \\\n",
       "0  Go until jurong point, crazy.. Available only ...   \n",
       "1                      Ok lar... Joking wif u oni...   \n",
       "2  Free entry in 2 a wkly comp to win FA Cup fina...   \n",
       "3  U dun say so early hor... U c already then say...   \n",
       "4  Nah I don't think he goes to usf, he lives aro...   \n",
       "\n",
       "                                       clean_message  \n",
       "0  go until jurong point crazy available only in ...  \n",
       "1                            ok lar joking wif u oni  \n",
       "2  free entry in 2 a wkly comp to win fa cup fina...  \n",
       "3        u dun say so early hor u c already then say  \n",
       "4  nah i don t think he goes to usf he lives arou...  "
      ]
     },
     "execution_count": 32,
     "metadata": {},
     "output_type": "execute_result"
    }
   ],
   "source": [
    "# Preprocess data\n",
    "\n",
    "df.columns = df.columns.str.strip().str.lower()\n",
    "if \"message\" not in df.columns:\n",
    "    df.rename(columns={df.columns[0]: \"category\", df.columns[1]: \"message\"}, inplace=True)\n",
    "\n",
    "print(\"\\nColumns:\", df.columns)\n",
    "\n",
    "# Encode target labels\n",
    "le = LabelEncoder()\n",
    "df[\"label\"] = le.fit_transform(df[\"category\"])  # spam=1, ham=0\n",
    "\n",
    "# masseges cleaning \n",
    "def clean_text(s):\n",
    "    s = str(s).lower()\n",
    "    s = re.sub(r\"http\\S+|www.\\S+\", \" \", s)\n",
    "    s = re.sub(r\"\\S+@\\S+\", \" \", s)\n",
    "    s = re.sub(r\"\\+?\\d[\\d\\s-]{6,}\\d\", \" \", s)\n",
    "    s = re.sub(r\"[^a-z0-9\\s]\", \" \", s)\n",
    "    s = re.sub(r\"\\s+\", \" \", s).strip()\n",
    "    return s\n",
    "\n",
    "df[\"clean_message\"] = df[\"message\"].apply(clean_text)\n",
    "df[[\"message\", \"clean_message\"]].head()"
   ]
  },
  {
   "cell_type": "code",
   "execution_count": 33,
   "id": "24ecb642-8056-4924-8dd2-b2789a81f687",
   "metadata": {},
   "outputs": [
    {
     "data": {
      "text/plain": [
       "label\n",
       "0    4516\n",
       "1     641\n",
       "Name: count, dtype: int64"
      ]
     },
     "execution_count": 33,
     "metadata": {},
     "output_type": "execute_result"
    }
   ],
   "source": [
    "df[\"label\"].value_counts()"
   ]
  },
  {
   "cell_type": "code",
   "execution_count": 34,
   "id": "8d6bf723-efd0-4d81-8137-61e7b6b03bb6",
   "metadata": {},
   "outputs": [],
   "source": [
    "import seaborn as sns\n",
    "import matplotlib.pyplot as plt"
   ]
  },
  {
   "cell_type": "code",
   "execution_count": 35,
   "id": "47715e9d-5618-48cd-9734-9df2eb80ad34",
   "metadata": {},
   "outputs": [
    {
     "data": {
      "image/png": "[encoded data removed]",
      "text/plain": [
       "<Figure size 300x400 with 1 Axes>"
      ]
     },
     "metadata": {},
     "output_type": "display_data"
    }
   ],
   "source": [
    "plt.figure(figsize=(3,4))\n",
    "plt.pie(df[\"label\"].value_counts() , labels = [\"ham\", \"spam\"] , autopct=\"0.2f\")\n",
    "plt.show()"
   ]
  },
  {
   "cell_type": "code",
   "execution_count": 36,
   "id": "a6fa13d4-dc3a-475a-8070-9258b1fd0712",
   "metadata": {},
   "outputs": [],
   "source": [
    "# Train-Test Split\n",
    "\n",
    "X = df[\"clean_message\"]\n",
    "y = df[\"label\"]\n",
    "\n",
    "X_train, X_test, y_train, y_test = train_test_split(X, y, test_size=0.2, stratify=y, random_state=6)\n"
   ]
  },
  {
   "cell_type": "code",
   "execution_count": 37,
   "id": "26a70098-9368-496b-908f-58067054923c",
   "metadata": {},
   "outputs": [],
   "source": [
    "# Feature Engineering \n",
    "\n",
    "tfidf = TfidfVectorizer(max_features=8000, ngram_range=(1, 2))\n",
    "X_train_vec = tfidf.fit_transform(X_train)\n",
    "X_test_vec = tfidf.transform(X_test)\n"
   ]
  },
  {
   "cell_type": "code",
   "execution_count": 38,
   "id": "54e6a7f3-b753-4e09-9213-bfc4eda5999a",
   "metadata": {},
   "outputs": [],
   "source": [
    "from xgboost import XGBClassifier"
   ]
  },
  {
   "cell_type": "code",
   "execution_count": 39,
   "id": "d2f07eb4-f2f7-4192-aa07-1a4dbdb5dbe4",
   "metadata": {},
   "outputs": [
    {
     "name": "stdout",
     "output_type": "stream",
     "text": [
      "\n",
      " Training LogisticRegression...\n",
      " LogisticRegression Accuracy: 0.9864\n",
      "              precision    recall  f1-score   support\n",
      "\n",
      "         ham       0.99      0.99      0.99       904\n",
      "        spam       0.95      0.95      0.95       128\n",
      "\n",
      "    accuracy                           0.99      1032\n",
      "   macro avg       0.97      0.97      0.97      1032\n",
      "weighted avg       0.99      0.99      0.99      1032\n",
      "\n",
      "Confusion Matrix:\n",
      " [[897   7]\n",
      " [  7 121]]\n",
      "\n",
      " Training RandomForest...\n",
      " RandomForest Accuracy: 0.9806\n",
      "              precision    recall  f1-score   support\n",
      "\n",
      "         ham       0.98      1.00      0.99       904\n",
      "        spam       0.99      0.85      0.92       128\n",
      "\n",
      "    accuracy                           0.98      1032\n",
      "   macro avg       0.99      0.93      0.95      1032\n",
      "weighted avg       0.98      0.98      0.98      1032\n",
      "\n",
      "Confusion Matrix:\n",
      " [[903   1]\n",
      " [ 19 109]]\n",
      "\n",
      " Training XGBoost...\n"
     ]
    },
    {
     "name": "stderr",
     "output_type": "stream",
     "text": [
      "C:\\Users\\csp\\anaconda3\\envs\\myproj\\Lib\\site-packages\\xgboost\\training.py:183: UserWarning: [11:13:57] WARNING: C:\\actions-runner\\_work\\xgboost\\xgboost\\src\\learner.cc:738: \n",
      "Parameters: { \"use_label_encoder\" } are not used.\n",
      "\n",
      "  bst.update(dtrain, iteration=i, fobj=obj)\n"
     ]
    },
    {
     "name": "stdout",
     "output_type": "stream",
     "text": [
      " XGBoost Accuracy: 0.9806\n",
      "              precision    recall  f1-score   support\n",
      "\n",
      "         ham       0.98      1.00      0.99       904\n",
      "        spam       0.98      0.86      0.92       128\n",
      "\n",
      "    accuracy                           0.98      1032\n",
      "   macro avg       0.98      0.93      0.95      1032\n",
      "weighted avg       0.98      0.98      0.98      1032\n",
      "\n",
      "Confusion Matrix:\n",
      " [[902   2]\n",
      " [ 18 110]]\n"
     ]
    }
   ],
   "source": [
    "# Models\n",
    "\n",
    "models = {\n",
    "    \"LogisticRegression\": LogisticRegression(max_iter=200, class_weight=\"balanced\"),\n",
    "    \"RandomForest\": RandomForestClassifier(n_estimators=200, random_state=42),\n",
    "    \"XGBoost\": XGBClassifier(use_label_encoder=False, eval_metric=\"logloss\")\n",
    "}\n",
    "\n",
    "leaderboard = []\n",
    "\n",
    "for name, model in models.items():\n",
    "    print(f\"\\n Training {name}...\")\n",
    "    model.fit(X_train_vec, y_train)\n",
    "    preds = model.predict(X_test_vec)\n",
    "    acc = accuracy_score(y_test, preds)\n",
    "    print(f\" {name} Accuracy: {acc:.4f}\")\n",
    "    print(classification_report(y_test, preds, target_names=le.classes_))\n",
    "    print(\"Confusion Matrix:\\n\", confusion_matrix(y_test, preds))\n",
    "    leaderboard.append({\"model\": name, \"accuracy\": acc})"
   ]
  },
  {
   "cell_type": "code",
   "execution_count": 40,
   "id": "8e3b3ac3-5428-4280-b4dc-ca91c5ca0998",
   "metadata": {},
   "outputs": [
    {
     "name": "stdout",
     "output_type": "stream",
     "text": [
      "\n",
      " Model Leaderboard:\n",
      "                 model  accuracy\n",
      "0  LogisticRegression  0.986434\n",
      "1        RandomForest  0.980620\n",
      "2             XGBoost  0.980620\n",
      "============================================================\n",
      "\n",
      " Best Model: LogisticRegression\n"
     ]
    }
   ],
   "source": [
    "# Select Best Model \n",
    "\n",
    "leaderboard_df = pd.DataFrame(leaderboard).sort_values(by=\"accuracy\", ascending=False)\n",
    "print(\"\\n Model Leaderboard:\\n\", leaderboard_df)\n",
    "\n",
    "best_model_name = leaderboard_df.iloc[0][\"model\"]\n",
    "best_model = models[best_model_name]\n",
    "print(f\"==\"*30)\n",
    "print(f\"\\n Best Model: {best_model_name}\")\n"
   ]
  },
  {
   "cell_type": "code",
   "execution_count": 41,
   "id": "a82b0ce3-10aa-45b7-80e1-6a06edf77b16",
   "metadata": {},
   "outputs": [
    {
     "name": "stdout",
     "output_type": "stream",
     "text": [
      "\n",
      " Model + Vectorizer + Encoder saved successfully!\n"
     ]
    }
   ],
   "source": [
    "# Save Artifacts \n",
    "\n",
    "joblib.dump(best_model, \"spam_model_best.joblib\")\n",
    "joblib.dump(tfidf, \"tfidf_vectorizer.joblib\")\n",
    "joblib.dump(le, \"label_encoder.joblib\")\n",
    "leaderboard_df.to_csv(\"leaderboard_metrics.csv\", index=False)\n",
    "\n",
    "print(\"\\n Model + Vectorizer + Encoder saved successfully!\")"
   ]
  },
  {
   "cell_type": "code",
   "execution_count": 42,
   "id": "56025224-36fc-4447-b9b4-765d76d5d3bd",
   "metadata": {},
   "outputs": [],
   "source": [
    "# Prediction Function\n",
    "\n",
    "def predict_message(text):\n",
    "    cleaned = clean_text(text)\n",
    "    vec = tfidf.transform([cleaned])\n",
    "    pred = best_model.predict(vec)[0]\n",
    "    prob = (\n",
    "        best_model.predict_proba(vec)[:, 1][0]\n",
    "        if hasattr(best_model, \"predict_proba\")\n",
    "        else None\n",
    "    )\n",
    "    label = le.inverse_transform([pred])[0]\n",
    "    return {\"text\": text, \"label\": label, \"prob\": float(prob) if prob is not None else None}"
   ]
  },
  {
   "cell_type": "markdown",
   "id": "f3bef453-0e68-4f47-88b8-8d5b571b0fb0",
   "metadata": {},
   "source": [
    "# Try Sample Predictions "
   ]
  },
  {
   "cell_type": "code",
   "execution_count": 43,
   "id": "133c0b3b-e41c-40f4-9016-08931f015b30",
   "metadata": {},
   "outputs": [
    {
     "name": "stdout",
     "output_type": "stream",
     "text": [
      "\n",
      " Sample Predictions:\n",
      "{'text': 'Congratulations! You have won a $1000 gift card. Reply YES to claim.', 'label': 'spam', 'prob': 0.9295283906580505}\n",
      "{'text': 'Hey, are we still meeting tomorrow for lunch?', 'label': 'ham', 'prob': 0.09054670771418849}\n",
      "{'text': 'Urgent! Call this number now to get your prize.', 'label': 'spam', 'prob': 0.8591034803939875}\n"
     ]
    }
   ],
   "source": [
    "\n",
    "\n",
    "examples = [\n",
    "    \"Congratulations! You have won a $1000 gift card. Reply YES to claim.\",\n",
    "    \"Hey, are we still meeting tomorrow for lunch?\",\n",
    "    \"Urgent! Call this number now to get your prize.\"\n",
    "]\n",
    "\n",
    "print(\"\\n Sample Predictions:\")\n",
    "for msg in examples:\n",
    "    print(predict_message(msg))\n"
   ]
  },
  {
   "cell_type": "code",
   "execution_count": null,
   "id": "ba94afbc-a7f6-49b4-aeb0-7fc5517b5613",
   "metadata": {},
   "outputs": [],
   "source": []
  },
  {
   "cell_type": "code",
   "execution_count": null,
   "id": "cecb42c9-50b1-4976-957c-51cfcf129517",
   "metadata": {},
   "outputs": [],
   "source": []
  },
  {
   "cell_type": "code",
   "execution_count": null,
   "id": "5f5e4850-9455-40f1-aaf5-89df2e04e933",
   "metadata": {},
   "outputs": [],
   "source": []
  },
  {
   "cell_type": "code",
   "execution_count": null,
   "id": "eb1e1e7f-b8c6-4f5c-9041-b9a5145a5afc",
   "metadata": {},
   "outputs": [],
   "source": []
  },
  {
   "cell_type": "code",
   "execution_count": null,
   "id": "f4941d75-9894-4e2b-b869-bec387519d35",
   "metadata": {},
   "outputs": [],
   "source": []
  },
  {
   "cell_type": "code",
   "execution_count": null,
   "id": "75f5cc3b-4376-469c-8efa-adebcd5e17f0",
   "metadata": {},
   "outputs": [],
   "source": []
  }
 ],
 "metadata": {
  "kernelspec": {
   "display_name": "Python 3 (ipykernel)",
   "language": "python",
   "name": "python3"
  },
  "language_info": {
   "codemirror_mode": {
    "name": "ipython",
    "version": 3
   },
   "file_extension": ".py",
   "mimetype": "text/x-python",
   "name": "python",
   "nbconvert_exporter": "python",
   "pygments_lexer": "ipython3",
   "version": "3.11.13"
  }
 },
 "nbformat": 4,
 "nbformat_minor": 5
}
